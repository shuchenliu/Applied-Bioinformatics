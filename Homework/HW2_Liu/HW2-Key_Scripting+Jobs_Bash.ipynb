{
 "cells": [
  {
   "cell_type": "markdown",
   "metadata": {},
   "source": [
    "Before you turn this problem in, make sure everything runs as expected. First, **restart the kernel** (in the menubar, select Kernel$\\rightarrow$Restart) and then **run all cells** (in the menubar, select Cell$\\rightarrow$Run All).\n",
    "\n",
    "Make sure you fill in any place that says `YOUR CODE HERE` or \"YOUR ANSWER HERE\", as well as your name and collaborators below:"
   ]
  },
  {
   "cell_type": "code",
   "execution_count": null,
   "metadata": {},
   "outputs": [],
   "source": [
    "NAME = \"Shuchen Liu\"\n",
    "COLLABORATORS = \"Kaiyu Chen, Tianbo Qi\""
   ]
  },
  {
   "cell_type": "markdown",
   "metadata": {},
   "source": [
    "---"
   ]
  },
  {
   "cell_type": "markdown",
   "metadata": {
    "deletable": false,
    "editable": false,
    "nbgrader": {
     "cell_type": "markdown",
     "checksum": "aac633cdf7f5ccc1105211bb8408af8e",
     "grade": false,
     "grade_id": "cell-8531b0dab318b0d2",
     "locked": true,
     "schema_version": 3,
     "solution": false,
     "task": false
    }
   },
   "source": [
    "# Homework 2: Scripting and Jobs (Bash, cnt'd)\n",
    "Curated by Sabah Ul-Hasan, Huitian Dao, Shang-Fu Chen, Karthik Gangavarapu, and Andrew Su\n",
    "\n",
    "Complete homework is due every Tuesday at 8 AM PST.<br>\n",
    "Save your homework as you go, so the efforts don't get lost. <br>\n",
    "Note there are up 12 points, but you can only receive 10 points total for homework.\n",
    "\n",
    "In this assignment, you will <br>\n",
    "A2.aa Refresh your understanding of bash<br>\n",
    "A2.ab Explore pipes in-depth (+awk) <br>\n",
    "A2.ba Familiarize yourself with loops <br>\n",
    "A2.bb Compile what you've learned as a script <br>\n",
    "\n",
    "Note that there is a section at the end (A2.bb) to point out any enhancements you personally would make to this assignment if you were to lead the course. "
   ]
  },
  {
   "cell_type": "markdown",
   "metadata": {
    "deletable": false,
    "editable": false,
    "nbgrader": {
     "cell_type": "markdown",
     "checksum": "f91e41e26c897b775f817f8e0e11698d",
     "grade": false,
     "grade_id": "cell-e3c9da73e2811a39",
     "locked": true,
     "schema_version": 3,
     "solution": false,
     "task": false
    }
   },
   "source": [
    "## A2.aa: Refresh understanding of bash [20-30 min] Group of 4 "
   ]
  },
  {
   "cell_type": "markdown",
   "metadata": {
    "deletable": false,
    "editable": false,
    "nbgrader": {
     "cell_type": "markdown",
     "checksum": "fbe2d416483b622a5e1a310da09437a0",
     "grade": false,
     "grade_id": "cell-c2f549622733ffcc",
     "locked": true,
     "points": 1,
     "schema_version": 3,
     "solution": false,
     "task": true
    }
   },
   "source": [
    "#### Question 1 (1 point) [5 min]\n",
    "In your group, identify four items you each considered to be the most difficult part of Homework 1. Then, break into pairs based on who in the group found it easier to navigate vs harder to navigate. In other words, pair yourself with someone who better understood what you found difficult and vice versa. Denote what these sections are below as a,b,c,or d."
   ]
  },
  {
   "cell_type": "markdown",
   "metadata": {},
   "source": [
    "**a.** finding the most intuitive way to do the same task - like `uniq` can really replace certain seemingly esoteric `awk` commands \n",
    "\n",
    "**b.** understanding the effect of `pipe` and why certain tools accepts its result while some do not.\n",
    "\n",
    "**c.** finding common pattern within even already formatted text files\n",
    "\n",
    "**d.** extracting hidden insights from data, aside from descriptive statistics."
   ]
  },
  {
   "cell_type": "markdown",
   "metadata": {
    "deletable": false,
    "editable": false,
    "nbgrader": {
     "cell_type": "markdown",
     "checksum": "c82394c105487c0c81e0e1b8e48f2a35",
     "grade": false,
     "grade_id": "cell-33e455f553bdbc47",
     "locked": true,
     "points": 1,
     "schema_version": 3,
     "solution": false,
     "task": true
    }
   },
   "source": [
    "#### Question 2 (1 point) [10 min, 15 min]\n",
    "Spend time discussing your troubleshooting process of working through what the other person found as difficult with one another. Write down what you learned. What was the before vs after result?\n",
    "Then, share as a whole group. Write down what you gained from the discussion in how you will be approaching bash scripting differently than you would do before."
   ]
  },
  {
   "cell_type": "markdown",
   "metadata": {},
   "source": [
    "originally, the following script was used to calculate the unique nationalities of the artists\n",
    "\n",
    "```bash\n",
    "#!/bin/bash\n",
    "\n",
    "cut -f 4 data/art/artists.txt \\\n",
    "| cut -d \" \" -f 1 \\\n",
    "| awk '{count[$1]++} END {for (na in count) {print na, count[na]}}' \\\n",
    "| sort -rnk 2\n",
    "\n",
    "```\n",
    "\n",
    "after discussion with teammates, we identify that a simple `uniq` command can be used instead of `awk`\n",
    "\n",
    "```bash\n",
    "#!/bin/bash\n",
    "cut -f 4 data/art/artists.txt \\\n",
    "| cut -d \" \" -f 1 \\\n",
    "| sort \\\n",
    "| uniq -c \\\n",
    "| sort -rn\n",
    "```\n",
    "\n",
    "\n",
    "From the discussion, we have learned that with different familarities with different tools, more collaboration/reviewing should be conducted in the developing process so scripts can be further optimized. Besides, manuals of the commandline tools should be a very important source to refer to. "
   ]
  },
  {
   "cell_type": "markdown",
   "metadata": {
    "deletable": false,
    "editable": false,
    "nbgrader": {
     "cell_type": "markdown",
     "checksum": "aaf4efeb962992209fc2646ecce4aa71",
     "grade": false,
     "grade_id": "cell-0948135824f7008f",
     "locked": true,
     "schema_version": 3,
     "solution": false,
     "task": false
    }
   },
   "source": [
    "## A2.aa: Explore pipes in-depth (+awk) [20-30 min] TPS \n",
    "- On your own time, try the following exercises [10-15 min]"
   ]
  },
  {
   "cell_type": "markdown",
   "metadata": {
    "deletable": false,
    "editable": false,
    "nbgrader": {
     "cell_type": "markdown",
     "checksum": "c50197ae5089632386975bcdbfce7634",
     "grade": false,
     "grade_id": "cell-1ff35e1dfe3e898b",
     "locked": true,
     "points": 1,
     "schema_version": 3,
     "solution": false,
     "task": true
    }
   },
   "source": [
    "#### Question 3 (1 point)\n",
    "Describe your current understanding of pipes. What are the various approaches, where does __`awk`__ come into play?\n",
    "\n",
    "\n",
    "Find the error and fix to run the script. Describe the error in a sentence. What is `{print $3}` doing? Describe what awk is doing this, and its limitations in recognizing delimiters (Hint: tab). \n",
    "\n",
    "```ruby\n",
    "%%bash\n",
    "awk '{print $3}' data/new_folder/artists_new.txt\n",
    "```\n"
   ]
  },
  {
   "cell_type": "markdown",
   "metadata": {},
   "source": [
    "**pipe** channels results from previous command to next command as an input\n",
    "\n",
    "The script did not specify correct delimiter to separate columns.\n",
    "\n",
    "fixed scripts:\n",
    "\n",
    "```bash\n",
    " awk -F \"\\t\" '{print $3}' data/new_folder/artists_new.txt\n",
    "```\n",
    "\n",
    "`{print $3}` print the 3rd column of the `txt` file.\n",
    "\n",
    "Generally `awk` takes one or more running options, commands quoted with single quotes, and a target file that the said command will apply to. For this command, it takes the specified delimiter `\\t` and print the third column separated by that delimiter of every single line of `data/new_folder/artists_new.txt`.\n",
    "\n",
    "`awk` by defaults use space as a delimiter. If different delimters is used in one file, it will have a hard time correctly separating columns."
   ]
  },
  {
   "cell_type": "markdown",
   "metadata": {
    "deletable": false,
    "editable": false,
    "nbgrader": {
     "cell_type": "markdown",
     "checksum": "e197765378bbc7b071a60b6144fb3127",
     "grade": false,
     "grade_id": "cell-a1d79798122352a1",
     "locked": true,
     "points": 1,
     "schema_version": 3,
     "solution": false,
     "task": true
    }
   },
   "source": [
    "#### Question 4 (1 point) [10-15 min]\n",
    "Use __`awk`__, __`sort`__, and/or __`uniq`__ to find the most common last names among all artists in `artists.txt`  \n",
    "Now, discuss your findings with your partner. What was similar, and what was different?\n"
   ]
  },
  {
   "cell_type": "markdown",
   "metadata": {
    "deletable": false,
    "editable": false,
    "nbgrader": {
     "cell_type": "markdown",
     "checksum": "422551ae71edc1d1eec7109458aebea2",
     "grade": false,
     "grade_id": "cell-4e1133a9dd69b7b5",
     "locked": true,
     "schema_version": 3,
     "solution": false,
     "task": false
    }
   },
   "source": [
    "On your own: "
   ]
  },
  {
   "cell_type": "code",
   "execution_count": 3,
   "metadata": {},
   "outputs": [
    {
     "name": "stdout",
     "output_type": "stream",
     "text": [
      "      5 KOBELL\n"
     ]
    }
   ],
   "source": [
    "%%bash\n",
    "awk -F \",\" '{print $1}' data/new_folder/artists_sorted.txt | awk '{print $1}' | sort | uniq -c |sort -rn | head -n 1"
   ]
  },
  {
   "cell_type": "markdown",
   "metadata": {},
   "source": [
    "Most part of process the same, some teammate used only the first `awk` command before piping to `sort`. I used two because for some lines `,` does not separate `lastname` with other fields fully, printing the first column of that result will guarantee correct lastname counts. The results are the same nonetheless."
   ]
  },
  {
   "cell_type": "markdown",
   "metadata": {
    "deletable": false,
    "editable": false,
    "nbgrader": {
     "cell_type": "markdown",
     "checksum": "789359a3bf0045b94a629f43a4d2d3f4",
     "grade": false,
     "grade_id": "cell-300b78e3db68717f",
     "locked": true,
     "points": 1,
     "schema_version": 3,
     "solution": false,
     "task": true
    }
   },
   "source": [
    "#### Question 5 (1 point)\n",
    "Now that we've worked through these in pairs, create a bash script that integrates two items we haven't yet tried in the exercises, such as __`NF`__, to answer a question about the `artists.txt` file. Describe briefly what this does. Have this complete pior to next class.\n",
    "\n",
    "\n",
    "Reflections: On an integer scale of 1-5, 1 being very easy and 5 being the most difficult, where would you rank today's exercises? Provide brief notes on what was easy vs difficult, and why.  \n"
   ]
  },
  {
   "cell_type": "code",
   "execution_count": 7,
   "metadata": {},
   "outputs": [
    {
     "name": "stdout",
     "output_type": "stream",
     "text": [
      "107\n"
     ]
    }
   ],
   "source": [
    "%%bash\n",
    "awk -F \"\\t\" 'match($NF, /\\)/)' data/new_folder/artists_sorted.txt | awk 'END{print NR}'"
   ]
  },
  {
   "cell_type": "markdown",
   "metadata": {},
   "source": [
    "The script above checks how many records from `artists.txt` have the **city of born** specified for the artist by matching `)` of the last field of each row."
   ]
  },
  {
   "cell_type": "markdown",
   "metadata": {},
   "source": [
    "easiness: `3`  \n",
    "easy: finding and writing correct commands  \n",
    "hard: coming up with the question to ask about the `artists.txt` file"
   ]
  },
  {
   "cell_type": "markdown",
   "metadata": {
    "deletable": false,
    "editable": false,
    "nbgrader": {
     "cell_type": "markdown",
     "checksum": "d409f9fc6cae08e7b63130c8d984ab3b",
     "grade": false,
     "grade_id": "cell-e30a29557264afab",
     "locked": true,
     "schema_version": 3,
     "solution": false,
     "task": false
    }
   },
   "source": [
    "## A2.ba: Loops [20-30 min] Group of 3\n",
    "### ba.i Loops [10 min]\n",
    "On your own"
   ]
  },
  {
   "cell_type": "markdown",
   "metadata": {
    "deletable": false,
    "editable": false,
    "nbgrader": {
     "cell_type": "markdown",
     "checksum": "e2f4253ac48fadd7228cd8fa9496e94a",
     "grade": false,
     "grade_id": "cell-6a789383b1f6dddd",
     "locked": true,
     "points": 1,
     "schema_version": 3,
     "solution": false,
     "task": true
    }
   },
   "source": [
    "#### Question 6 (1 point)\n",
    "Describe how a loop operates. Why and when do you want to use a loop, vs a single command string?\n",
    "\n",
    "\n",
    "Write a bash for loop that outpouts letters a-e\n"
   ]
  },
  {
   "cell_type": "markdown",
   "metadata": {},
   "source": [
    "`Loop` generally works by specifying a `start` and `end` and performing operations for the specified range.\n",
    "`Loop` should be used if a specific fraction of input data need to be examined and/or getting results that cannot otherwise be accumulated without scanning through inputs.\n"
   ]
  },
  {
   "cell_type": "code",
   "execution_count": 10,
   "metadata": {},
   "outputs": [
    {
     "name": "stdout",
     "output_type": "stream",
     "text": [
      "a\n",
      "b\n",
      "c\n",
      "d\n",
      "e\n"
     ]
    }
   ],
   "source": [
    "%%bash\n",
    "for i in {a..e}\n",
    "do\n",
    "    echo $i\n",
    "done"
   ]
  },
  {
   "cell_type": "markdown",
   "metadata": {
    "deletable": false,
    "editable": false,
    "nbgrader": {
     "cell_type": "markdown",
     "checksum": "0a34614523a3aa98ed5cfa9593e7e958",
     "grade": false,
     "grade_id": "cell-8707f4ad4abb75b7",
     "locked": true,
     "points": 1,
     "schema_version": 3,
     "solution": false,
     "task": true
    }
   },
   "source": [
    "#### Question 7 (1 point)\n",
    "What are the different types of loops, and when might you want to try one over another? Script an example.\n"
   ]
  },
  {
   "cell_type": "markdown",
   "metadata": {},
   "source": [
    "Generally there are `for` loops and `while` loops, with bash having `until` and `select` as special cases of the previous two typs. `For` loops work best when there is a desired range while `while` works best when a specific condition needs to be met, especially with no prior knowldege of when that condition will be met."
   ]
  },
  {
   "cell_type": "code",
   "execution_count": 33,
   "metadata": {},
   "outputs": [
    {
     "name": "stdout",
     "output_type": "stream",
     "text": [
      "36\n"
     ]
    }
   ],
   "source": [
    "%%bash\n",
    "x=1\n",
    "count=0\n",
    "while [ $x -le 467 ]\n",
    "do\n",
    "  x=$(( $x + 13 ))\n",
    "  count=$(( $count + 1 ))\n",
    "done\n",
    "\n",
    "echo $count"
   ]
  },
  {
   "cell_type": "markdown",
   "metadata": {},
   "source": [
    "In this case, we do not necessarily know how many times the operation will be performed before `x` reach `467`, so we simply define an ending condition."
   ]
  },
  {
   "cell_type": "markdown",
   "metadata": {
    "deletable": false,
    "editable": false,
    "nbgrader": {
     "cell_type": "markdown",
     "checksum": "d78c170c0b37ebc11e5bd01bca701f95",
     "grade": false,
     "grade_id": "cell-fe05faaf91b75713",
     "locked": true,
     "schema_version": 3,
     "solution": false,
     "task": false
    }
   },
   "source": [
    "### A2.bb: Create a script to run a job [20-30 min] Individual\n",
    "Get excited, we're about to apply what we've learned from a technical perspective to the science-y stuff! Familiar with 'fasta files' from NCBI? Here we go!\n",
    "https://blast.ncbi.nlm.nih.gov/Blast.cgi?CMD=Web&PAGE_TYPE=BlastDocs&DOC_TYPE=BlastHelp\n",
    "\n",
    "#### bb.i Applying what we've learned on bash to biology <br>"
   ]
  },
  {
   "cell_type": "markdown",
   "metadata": {
    "deletable": false,
    "editable": false,
    "nbgrader": {
     "cell_type": "markdown",
     "checksum": "4202ea12b8fcf4b5f7b2a852be8f7f22",
     "grade": false,
     "grade_id": "cell-ddee5afbc0429aee",
     "locked": true,
     "points": 1,
     "schema_version": 3,
     "solution": false,
     "task": true
    }
   },
   "source": [
    "#### Question 8 (1 point)\n",
    "In your \"Applied-Bioinformatics_Course\" Github repository, create a folder titled \"HW2_[Lastname]\"  \n",
    "_Note: Always check that you're in the correct working directory_\n",
    "\n",
    "Create a bash loop that renames all the files in the folder data/fastq folder from `*.fq` to `*.fastq`  \n",
    "_Note: Have all these files copied and moved into the `new_folder` directory so as not to overwrite the original `*.fq`_\n"
   ]
  },
  {
   "cell_type": "markdown",
   "metadata": {
    "deletable": false,
    "editable": false,
    "nbgrader": {
     "cell_type": "markdown",
     "checksum": "9afafd95672258b2dc295b5b48288b61",
     "grade": false,
     "grade_id": "cell-24812d415f3fdeac",
     "locked": true,
     "points": 1,
     "schema_version": 3,
     "solution": false,
     "task": true
    }
   },
   "source": [
    "#### Question 9 (1 point)\n",
    "Print all nucleotide sequences from ./data/fastq/simulated1.R1.fastq by replacing all 'T's in the nucleotide sequences with 'U's\n"
   ]
  },
  {
   "cell_type": "code",
   "execution_count": 56,
   "metadata": {},
   "outputs": [
    {
     "name": "stdout",
     "output_type": "stream",
     "text": [
      "@Puerto_5207_5777_1:0:0_2:0:0_0/1\n",
      "UGGGAAAACCAGGAGAGUUCUUCCUGAAAUAGUCCGUGAAGCCAUAAAAAGAAGACUCCGUACUGUGAUC\n",
      "+\n",
      "2222222222222222222222222222222222222222222222222222222222222@@@@@@@@@\n",
      "@Puerto_4126_4595_1:0:0_0:0:0_1/1\n",
      "ACUUACCAUUUGUCAUGGCCCUGGGACUAACCGCUGUGAGGCUGGUCGACCCGAUCAACGUGGUGGGACU\n",
      "+\n",
      "2222222222222222222222222222222222222222222222222222222222222222222222\n",
      "@Puerto_8069_8649_4:0:0_1:0:0_2/1\n",
      "GCCAGACAACCCCGUUUAUUAGAGAGGACGCUGACCCUUGUGUGGGGGCCUCAUAGCUUCCAUGGUAAGC\n",
      "+\n",
      "2222222222222222222222222222222222222222222222222222222222222222222222\n",
      "@Puerto_2090_2540_1:0:0_3:0:0_3/1\n",
      "CUCUAAGCUGAUGCUGGAACUUGAUCCACCAUUUGGGGACUCUUACAUUGUCAUAGGAGUCGGGGAGAAG\n",
      "+\n",
      "2222222222222222222222222222222222222222222222222222222222222222222222\n",
      "@Puerto_7758_8266_0:0:0_1:0:0_4/1\n",
      "GGCAUCACCGAGGUGUGCAGAGAAGAGGCCCGCCGCGCCCUCAAGGACGGUGUGGCAACGGGAGGCCAUG\n",
      "+\n",
      "2222222222222222222222222222222222222222222222222222222222222222222222\n",
      "@Puerto_2795_3256_2:0:0_0:0:0_5/1\n",
      "GAGAUUGCCCGUGCCUGUGAACGAGCUGCCCCACGGGUGGAAGGCUUUGGGGAAAUCGUAUUUCGUCAGA\n",
      "+\n",
      "2222222222222222222222222222222222222222222222222222222222222222222222\n",
      "@Puerto_2172_2650_0:0:0_2:0:0_6/1\n",
      "AUACCAUCAUCCCAGGCUUGCUUGACUGCUGCUGGCAAUCUACGGGGGGAGUCAGGAUGGUACUUGUACC\n",
      "+\n",
      "2222222222222222222222222222222222222222222222222222222222222222222222\n",
      "@Puerto_3618_4126_1:0:0_1:0:0_7/1\n",
      "UUCUUCUUCACACUGCCUUUUCCCUUCAGAGAGAGGAGCAAAAACCCCCCGCAAGUAGCAAGGCCUGCUC\n",
      "+\n",
      "2222222222222222222222222222222222222222222222222222222222222222222222\n",
      "@Puerto_362_896_1:0:0_1:0:0_8/1\n",
      "GAAAGAUCUGGCUGCCAAGCUGAGAAUAAUCAAUGCUAGGAAGGAGAAGAAGAGACGAGGCGCAGAUACU\n",
      "+\n",
      "2222222222222222222222222222222222222222222222222222222222222222222222\n",
      "@Puerto_8730_9289_0:0:0_1:0:0_9/1\n",
      "GUUUUCAAGGAAAAAGUGGACACUAGGGUGCCAGACCCCCAAGAAGGCACUCGUCAGGUUAUGAGCAUGG\n",
      "+\n",
      "2222222222222222222222222222222222222222222222222222222222222222222222\n",
      "@Puerto_2020_2513_1:0:0_2:0:0_a/1\n",
      "ACAUGCAAACUCUGACCCCAGUUGGGAGGUUGAUAACCGCUAACCCCGUACUCACUGAAAGCACUGAGAA\n",
      "+\n",
      "2222222222222222222222222222222222222222222222222222222222222222222222\n",
      "@Puerto_8179_8741_1:0:0_0:0:0_b/1\n",
      "GGCUUGAAAAAAGACCAGGAGCCUUUUGUAUAAAAGUGUUGUGCCCAUACACCAGCACUAUGCUGGAAAC\n",
      "+\n",
      "2222222222222222222222222222222222222222222222222222222222222222222222\n",
      "@Puerto_8541_9051_1:0:0_2:0:0_c/1\n",
      "UCUUUUCUCUUUUUCCCAUCAUGUUGUACACACAGCUCUGGCACUCUCCUCUCAGGUGGUGCACUCUUUG\n",
      "+\n",
      "2222222222222222222222222222222222222222222222222222222222222222222222\n",
      "@Puerto_1817_2345_0:0:0_3:0:0_d/1\n",
      "CACUGAUUUGAAAGGUGCUCCAAAAAUUUGAUGGAUGCGCUUGCCCAAUGAGUUGAGAGCGCCUCCAACU\n",
      "+\n",
      "2222222222222222222222222222222222222222222222222222222222222222222222\n",
      "@Puerto_8936_9483_0:0:0_1:0:0_e/1\n",
      "CUUUUCCGCUCCCCCUUUGGUCUUGUCUCGAAAUAAUGUCCAUAACUGUUUUCCCUUUUUCAGCUGGUCU\n",
      "+\n",
      "2222222222222222222222222222222222222222222222222222222222222222222222\n",
      "@Puerto_1548_2094_1:0:0_2:0:0_f/1\n",
      "UAGAGUUCUCAGUUCUUUCAGUGAUUACGGGGUUAGCUGUUAUCAACCUCCCAACUGGGGUCAGAGUUUG\n",
      "+\n",
      "2222222222222222222222222222222222222222222222222222222222222222222222\n",
      "@Puerto_7508_8051_2:0:0_2:0:0_10/1\n",
      "ACUCUUAAUACGGACUAUGAUCCACCCAUAGCUUUGCACCAACACGGGUUCUUCAUGACCAGGGCCUCCU\n",
      "+\n",
      "2222222222222222222222222222222222222222222222222222222222222222222222\n",
      "@Puerto_6768_7305_1:0:0_0:0:0_11/1\n",
      "CCAGCCAGAAUUGCAUGUGUCCACAUUGUUGUGUUCCUAUUGCUGGUGGUGCUCAUACCUGAGCCAGAAA\n",
      "+\n",
      "2222222222222222222222222222222222222222222222222222222222222222222222\n",
      "@Puerto_5435_5937_5:0:0_1:0:0_12/1\n",
      "GAAUGACUCUCUCGCCAUCAAGAAUGACCGGCUUUAGGCAUCUCCUGGAAUCUAUGACACGGUCAGCUUU\n",
      "+\n",
      "@@@2222222222222222222222222222222222222222222222222222222222222222222\n",
      "@Puerto_9144_9685_4:0:0_0:0:0_13/1\n",
      "UUGAACGAGGAUCACUGGAUGUGGAGAUAGAACACAGGAGGUGGUGUUUAAGGGCUGGGAUUACAAAGAC\n",
      "+\n",
      "2222222222222222222222222222222222222222222222222222222222222222222222\n"
     ]
    }
   ],
   "source": [
    "%%bash\n",
    "\n",
    "original=$(cat data/new_folder/simulated1.R1.fastq)\n",
    "echo \"${original//T/U}\""
   ]
  },
  {
   "cell_type": "markdown",
   "metadata": {
    "deletable": false,
    "editable": false,
    "nbgrader": {
     "cell_type": "markdown",
     "checksum": "a1aadc9db8f151df20374075f9a42575",
     "grade": false,
     "grade_id": "cell-d806d7b7c1a25af3",
     "locked": true,
     "points": 1,
     "schema_version": 3,
     "solution": false,
     "task": true
    }
   },
   "source": [
    "#### Question 10 (1 point)\n",
    "Create a bash loop that renames all the files in the folder data/fastq folder from `*.fq` to `*.fastq`  \n",
    "_Note: Have all these files copied and moved into the `new_folder` directory so as not to overwrite the original `*.fq`_\n"
   ]
  },
  {
   "cell_type": "code",
   "execution_count": null,
   "metadata": {},
   "outputs": [],
   "source": [
    "%%bash\n",
    "\n",
    "a=$(ls data/new_folder/*.fq)\n",
    "for k in $a\n",
    "do\n",
    "    file=${k%.*}\n",
    "    mv $file.fq $file.fastq\n",
    "done"
   ]
  },
  {
   "cell_type": "markdown",
   "metadata": {
    "deletable": false,
    "editable": false,
    "nbgrader": {
     "cell_type": "markdown",
     "checksum": "9bddab6c0cd0b30cbc4c12faff6d15ad",
     "grade": false,
     "grade_id": "cell-383a0643090d29f1",
     "locked": true,
     "schema_version": 3,
     "solution": false,
     "task": false
    }
   },
   "source": [
    "#### Question 11 (1 point) <br>\n",
    "Reflections: On an integer scale of 1-5, 1 being very easy and 5 being the most difficult, where would you rank the A2.bb assignment and why? Include some notes about what you gained from this past week that you didn't know before as well as notes of things you already knew. \n",
    "\n",
    "Improvements: Notice a [potentially intentional] mistake, or an area of this homework that could have been improved? Include your thoughts here. "
   ]
  }
 ],
 "metadata": {
  "kernelspec": {
   "display_name": "Python 3",
   "language": "python",
   "name": "python3"
  },
  "language_info": {
   "codemirror_mode": {
    "name": "ipython",
    "version": 3
   },
   "file_extension": ".py",
   "mimetype": "text/x-python",
   "name": "python",
   "nbconvert_exporter": "python",
   "pygments_lexer": "ipython3",
   "version": "3.6.3"
  }
 },
 "nbformat": 4,
 "nbformat_minor": 4
}
